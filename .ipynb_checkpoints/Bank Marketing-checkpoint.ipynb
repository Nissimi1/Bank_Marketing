{
 "cells": [
  {
   "cell_type": "markdown",
   "id": "6150d403-16c2-4cb4-ade4-aafbf26e9f96",
   "metadata": {},
   "source": [
    "Introduction;\n",
    "This project is to analyze and visualize the performance of marketing campaigns and predict client \r\n",
    "subscription to term deposits using Python, providing actionable insights for business \r\n",
    "improvement."
   ]
  },
  {
   "cell_type": "code",
   "execution_count": 3,
   "id": "5e3c72ee-6d75-4e0e-8c6b-5989d76c123f",
   "metadata": {},
   "outputs": [],
   "source": [
    "import pandas as pd\n",
    "import numpy as np\n",
    "import matplotlib.pyplot as plt\n",
    "import seaborn as sb\n",
    "import os"
   ]
  },
  {
   "cell_type": "code",
   "execution_count": 594,
   "id": "4ecc32f1-42c9-4775-a47e-27ba53719b25",
   "metadata": {},
   "outputs": [],
   "source": [
    "Bank= pd.read_csv(r\"C:\\Users\\user\\Downloads\\bank.csv\")"
   ]
  },
  {
   "cell_type": "code",
   "execution_count": 596,
   "id": "16c29b5e-af5a-4205-993c-e904b80821e2",
   "metadata": {},
   "outputs": [
    {
     "data": {
      "text/html": [
       "<div>\n",
       "<style scoped>\n",
       "    .dataframe tbody tr th:only-of-type {\n",
       "        vertical-align: middle;\n",
       "    }\n",
       "\n",
       "    .dataframe tbody tr th {\n",
       "        vertical-align: top;\n",
       "    }\n",
       "\n",
       "    .dataframe thead th {\n",
       "        text-align: right;\n",
       "    }\n",
       "</style>\n",
       "<table border=\"1\" class=\"dataframe\">\n",
       "  <thead>\n",
       "    <tr style=\"text-align: right;\">\n",
       "      <th></th>\n",
       "      <th>age</th>\n",
       "      <th>job</th>\n",
       "      <th>marital</th>\n",
       "      <th>education</th>\n",
       "      <th>default</th>\n",
       "      <th>balance</th>\n",
       "      <th>housing</th>\n",
       "      <th>loan</th>\n",
       "      <th>contact</th>\n",
       "      <th>day</th>\n",
       "      <th>month</th>\n",
       "      <th>duration</th>\n",
       "      <th>campaign</th>\n",
       "      <th>pdays</th>\n",
       "      <th>previous</th>\n",
       "      <th>poutcome</th>\n",
       "      <th>y</th>\n",
       "    </tr>\n",
       "  </thead>\n",
       "  <tbody>\n",
       "    <tr>\n",
       "      <th>0</th>\n",
       "      <td>30</td>\n",
       "      <td>unemployed</td>\n",
       "      <td>married</td>\n",
       "      <td>primary</td>\n",
       "      <td>no</td>\n",
       "      <td>1787</td>\n",
       "      <td>no</td>\n",
       "      <td>no</td>\n",
       "      <td>cellular</td>\n",
       "      <td>19</td>\n",
       "      <td>oct</td>\n",
       "      <td>79</td>\n",
       "      <td>1</td>\n",
       "      <td>-1</td>\n",
       "      <td>0</td>\n",
       "      <td>unknown</td>\n",
       "      <td>no</td>\n",
       "    </tr>\n",
       "    <tr>\n",
       "      <th>1</th>\n",
       "      <td>33</td>\n",
       "      <td>services</td>\n",
       "      <td>married</td>\n",
       "      <td>secondary</td>\n",
       "      <td>no</td>\n",
       "      <td>4789</td>\n",
       "      <td>yes</td>\n",
       "      <td>yes</td>\n",
       "      <td>cellular</td>\n",
       "      <td>11</td>\n",
       "      <td>may</td>\n",
       "      <td>220</td>\n",
       "      <td>1</td>\n",
       "      <td>339</td>\n",
       "      <td>4</td>\n",
       "      <td>failure</td>\n",
       "      <td>no</td>\n",
       "    </tr>\n",
       "    <tr>\n",
       "      <th>2</th>\n",
       "      <td>35</td>\n",
       "      <td>management</td>\n",
       "      <td>single</td>\n",
       "      <td>tertiary</td>\n",
       "      <td>no</td>\n",
       "      <td>1350</td>\n",
       "      <td>yes</td>\n",
       "      <td>no</td>\n",
       "      <td>cellular</td>\n",
       "      <td>16</td>\n",
       "      <td>apr</td>\n",
       "      <td>185</td>\n",
       "      <td>1</td>\n",
       "      <td>330</td>\n",
       "      <td>1</td>\n",
       "      <td>failure</td>\n",
       "      <td>no</td>\n",
       "    </tr>\n",
       "    <tr>\n",
       "      <th>3</th>\n",
       "      <td>30</td>\n",
       "      <td>management</td>\n",
       "      <td>married</td>\n",
       "      <td>tertiary</td>\n",
       "      <td>no</td>\n",
       "      <td>1476</td>\n",
       "      <td>yes</td>\n",
       "      <td>yes</td>\n",
       "      <td>unknown</td>\n",
       "      <td>3</td>\n",
       "      <td>jun</td>\n",
       "      <td>199</td>\n",
       "      <td>4</td>\n",
       "      <td>-1</td>\n",
       "      <td>0</td>\n",
       "      <td>unknown</td>\n",
       "      <td>no</td>\n",
       "    </tr>\n",
       "    <tr>\n",
       "      <th>4</th>\n",
       "      <td>59</td>\n",
       "      <td>blue-collar</td>\n",
       "      <td>married</td>\n",
       "      <td>secondary</td>\n",
       "      <td>no</td>\n",
       "      <td>0</td>\n",
       "      <td>yes</td>\n",
       "      <td>no</td>\n",
       "      <td>unknown</td>\n",
       "      <td>5</td>\n",
       "      <td>may</td>\n",
       "      <td>226</td>\n",
       "      <td>1</td>\n",
       "      <td>-1</td>\n",
       "      <td>0</td>\n",
       "      <td>unknown</td>\n",
       "      <td>no</td>\n",
       "    </tr>\n",
       "  </tbody>\n",
       "</table>\n",
       "</div>"
      ],
      "text/plain": [
       "   age          job  marital  education default  balance housing loan  \\\n",
       "0   30   unemployed  married    primary      no     1787      no   no   \n",
       "1   33     services  married  secondary      no     4789     yes  yes   \n",
       "2   35   management   single   tertiary      no     1350     yes   no   \n",
       "3   30   management  married   tertiary      no     1476     yes  yes   \n",
       "4   59  blue-collar  married  secondary      no        0     yes   no   \n",
       "\n",
       "    contact  day month  duration  campaign  pdays  previous poutcome   y  \n",
       "0  cellular   19   oct        79         1     -1         0  unknown  no  \n",
       "1  cellular   11   may       220         1    339         4  failure  no  \n",
       "2  cellular   16   apr       185         1    330         1  failure  no  \n",
       "3   unknown    3   jun       199         4     -1         0  unknown  no  \n",
       "4   unknown    5   may       226         1     -1         0  unknown  no  "
      ]
     },
     "execution_count": 596,
     "metadata": {},
     "output_type": "execute_result"
    }
   ],
   "source": [
    "Bank.head()"
   ]
  },
  {
   "cell_type": "code",
   "execution_count": 598,
   "id": "cd2caf5d-3f7e-42fe-b1a1-0cc83bb9efe7",
   "metadata": {},
   "outputs": [
    {
     "data": {
      "text/plain": [
       "0       False\n",
       "1       False\n",
       "2       False\n",
       "3       False\n",
       "4       False\n",
       "        ...  \n",
       "4516    False\n",
       "4517    False\n",
       "4518    False\n",
       "4519    False\n",
       "4520    False\n",
       "Length: 4521, dtype: bool"
      ]
     },
     "execution_count": 598,
     "metadata": {},
     "output_type": "execute_result"
    }
   ],
   "source": [
    "Bank.duplicated()"
   ]
  },
  {
   "cell_type": "code",
   "execution_count": 600,
   "id": "c42a4d32-33fb-43e2-9fec-6b4e9369eaea",
   "metadata": {},
   "outputs": [
    {
     "data": {
      "text/plain": [
       "age          0\n",
       "job          0\n",
       "marital      0\n",
       "education    0\n",
       "default      0\n",
       "balance      0\n",
       "housing      0\n",
       "loan         0\n",
       "contact      0\n",
       "day          0\n",
       "month        0\n",
       "duration     0\n",
       "campaign     0\n",
       "pdays        0\n",
       "previous     0\n",
       "poutcome     0\n",
       "y            0\n",
       "dtype: int64"
      ]
     },
     "execution_count": 600,
     "metadata": {},
     "output_type": "execute_result"
    }
   ],
   "source": [
    "Bank.isnull().sum()"
   ]
  },
  {
   "cell_type": "code",
   "execution_count": 602,
   "id": "f0ca3255-7efd-46f4-82b3-875996b32927",
   "metadata": {},
   "outputs": [
    {
     "name": "stdout",
     "output_type": "stream",
     "text": [
      "<class 'pandas.core.frame.DataFrame'>\n",
      "RangeIndex: 4521 entries, 0 to 4520\n",
      "Data columns (total 17 columns):\n",
      " #   Column     Non-Null Count  Dtype \n",
      "---  ------     --------------  ----- \n",
      " 0   age        4521 non-null   int64 \n",
      " 1   job        4521 non-null   object\n",
      " 2   marital    4521 non-null   object\n",
      " 3   education  4521 non-null   object\n",
      " 4   default    4521 non-null   object\n",
      " 5   balance    4521 non-null   int64 \n",
      " 6   housing    4521 non-null   object\n",
      " 7   loan       4521 non-null   object\n",
      " 8   contact    4521 non-null   object\n",
      " 9   day        4521 non-null   int64 \n",
      " 10  month      4521 non-null   object\n",
      " 11  duration   4521 non-null   int64 \n",
      " 12  campaign   4521 non-null   int64 \n",
      " 13  pdays      4521 non-null   int64 \n",
      " 14  previous   4521 non-null   int64 \n",
      " 15  poutcome   4521 non-null   object\n",
      " 16  y          4521 non-null   object\n",
      "dtypes: int64(7), object(10)\n",
      "memory usage: 600.6+ KB\n"
     ]
    }
   ],
   "source": [
    "Bank.info()"
   ]
  },
  {
   "cell_type": "code",
   "execution_count": 604,
   "id": "a3445f5e-2691-4e2c-b9d8-6aee2e7d2ba0",
   "metadata": {},
   "outputs": [
    {
     "data": {
      "text/html": [
       "<div>\n",
       "<style scoped>\n",
       "    .dataframe tbody tr th:only-of-type {\n",
       "        vertical-align: middle;\n",
       "    }\n",
       "\n",
       "    .dataframe tbody tr th {\n",
       "        vertical-align: top;\n",
       "    }\n",
       "\n",
       "    .dataframe thead th {\n",
       "        text-align: right;\n",
       "    }\n",
       "</style>\n",
       "<table border=\"1\" class=\"dataframe\">\n",
       "  <thead>\n",
       "    <tr style=\"text-align: right;\">\n",
       "      <th></th>\n",
       "      <th>age</th>\n",
       "      <th>balance</th>\n",
       "      <th>day</th>\n",
       "      <th>duration</th>\n",
       "      <th>campaign</th>\n",
       "      <th>pdays</th>\n",
       "      <th>previous</th>\n",
       "    </tr>\n",
       "  </thead>\n",
       "  <tbody>\n",
       "    <tr>\n",
       "      <th>0</th>\n",
       "      <td>30</td>\n",
       "      <td>1787</td>\n",
       "      <td>19</td>\n",
       "      <td>79</td>\n",
       "      <td>1</td>\n",
       "      <td>-1</td>\n",
       "      <td>0</td>\n",
       "    </tr>\n",
       "    <tr>\n",
       "      <th>1</th>\n",
       "      <td>33</td>\n",
       "      <td>4789</td>\n",
       "      <td>11</td>\n",
       "      <td>220</td>\n",
       "      <td>1</td>\n",
       "      <td>339</td>\n",
       "      <td>4</td>\n",
       "    </tr>\n",
       "    <tr>\n",
       "      <th>2</th>\n",
       "      <td>35</td>\n",
       "      <td>1350</td>\n",
       "      <td>16</td>\n",
       "      <td>185</td>\n",
       "      <td>1</td>\n",
       "      <td>330</td>\n",
       "      <td>1</td>\n",
       "    </tr>\n",
       "    <tr>\n",
       "      <th>3</th>\n",
       "      <td>30</td>\n",
       "      <td>1476</td>\n",
       "      <td>3</td>\n",
       "      <td>199</td>\n",
       "      <td>4</td>\n",
       "      <td>-1</td>\n",
       "      <td>0</td>\n",
       "    </tr>\n",
       "    <tr>\n",
       "      <th>4</th>\n",
       "      <td>59</td>\n",
       "      <td>0</td>\n",
       "      <td>5</td>\n",
       "      <td>226</td>\n",
       "      <td>1</td>\n",
       "      <td>-1</td>\n",
       "      <td>0</td>\n",
       "    </tr>\n",
       "    <tr>\n",
       "      <th>...</th>\n",
       "      <td>...</td>\n",
       "      <td>...</td>\n",
       "      <td>...</td>\n",
       "      <td>...</td>\n",
       "      <td>...</td>\n",
       "      <td>...</td>\n",
       "      <td>...</td>\n",
       "    </tr>\n",
       "    <tr>\n",
       "      <th>4516</th>\n",
       "      <td>33</td>\n",
       "      <td>-333</td>\n",
       "      <td>30</td>\n",
       "      <td>329</td>\n",
       "      <td>5</td>\n",
       "      <td>-1</td>\n",
       "      <td>0</td>\n",
       "    </tr>\n",
       "    <tr>\n",
       "      <th>4517</th>\n",
       "      <td>57</td>\n",
       "      <td>-3313</td>\n",
       "      <td>9</td>\n",
       "      <td>153</td>\n",
       "      <td>1</td>\n",
       "      <td>-1</td>\n",
       "      <td>0</td>\n",
       "    </tr>\n",
       "    <tr>\n",
       "      <th>4518</th>\n",
       "      <td>57</td>\n",
       "      <td>295</td>\n",
       "      <td>19</td>\n",
       "      <td>151</td>\n",
       "      <td>11</td>\n",
       "      <td>-1</td>\n",
       "      <td>0</td>\n",
       "    </tr>\n",
       "    <tr>\n",
       "      <th>4519</th>\n",
       "      <td>28</td>\n",
       "      <td>1137</td>\n",
       "      <td>6</td>\n",
       "      <td>129</td>\n",
       "      <td>4</td>\n",
       "      <td>211</td>\n",
       "      <td>3</td>\n",
       "    </tr>\n",
       "    <tr>\n",
       "      <th>4520</th>\n",
       "      <td>44</td>\n",
       "      <td>1136</td>\n",
       "      <td>3</td>\n",
       "      <td>345</td>\n",
       "      <td>2</td>\n",
       "      <td>249</td>\n",
       "      <td>7</td>\n",
       "    </tr>\n",
       "  </tbody>\n",
       "</table>\n",
       "<p>4521 rows × 7 columns</p>\n",
       "</div>"
      ],
      "text/plain": [
       "      age  balance  day  duration  campaign  pdays  previous\n",
       "0      30     1787   19        79         1     -1         0\n",
       "1      33     4789   11       220         1    339         4\n",
       "2      35     1350   16       185         1    330         1\n",
       "3      30     1476    3       199         4     -1         0\n",
       "4      59        0    5       226         1     -1         0\n",
       "...   ...      ...  ...       ...       ...    ...       ...\n",
       "4516   33     -333   30       329         5     -1         0\n",
       "4517   57    -3313    9       153         1     -1         0\n",
       "4518   57      295   19       151        11     -1         0\n",
       "4519   28     1137    6       129         4    211         3\n",
       "4520   44     1136    3       345         2    249         7\n",
       "\n",
       "[4521 rows x 7 columns]"
      ]
     },
     "execution_count": 604,
     "metadata": {},
     "output_type": "execute_result"
    }
   ],
   "source": [
    "Bank.select_dtypes('number')"
   ]
  },
  {
   "cell_type": "code",
   "execution_count": 606,
   "id": "cfe8af63-9449-45fb-bfc8-494da55dcb11",
   "metadata": {},
   "outputs": [
    {
     "data": {
      "text/html": [
       "<div>\n",
       "<style scoped>\n",
       "    .dataframe tbody tr th:only-of-type {\n",
       "        vertical-align: middle;\n",
       "    }\n",
       "\n",
       "    .dataframe tbody tr th {\n",
       "        vertical-align: top;\n",
       "    }\n",
       "\n",
       "    .dataframe thead th {\n",
       "        text-align: right;\n",
       "    }\n",
       "</style>\n",
       "<table border=\"1\" class=\"dataframe\">\n",
       "  <thead>\n",
       "    <tr style=\"text-align: right;\">\n",
       "      <th></th>\n",
       "      <th>job</th>\n",
       "      <th>marital</th>\n",
       "      <th>education</th>\n",
       "      <th>default</th>\n",
       "      <th>housing</th>\n",
       "      <th>loan</th>\n",
       "      <th>contact</th>\n",
       "      <th>month</th>\n",
       "      <th>poutcome</th>\n",
       "      <th>y</th>\n",
       "    </tr>\n",
       "  </thead>\n",
       "  <tbody>\n",
       "    <tr>\n",
       "      <th>0</th>\n",
       "      <td>unemployed</td>\n",
       "      <td>married</td>\n",
       "      <td>primary</td>\n",
       "      <td>no</td>\n",
       "      <td>no</td>\n",
       "      <td>no</td>\n",
       "      <td>cellular</td>\n",
       "      <td>oct</td>\n",
       "      <td>unknown</td>\n",
       "      <td>no</td>\n",
       "    </tr>\n",
       "    <tr>\n",
       "      <th>1</th>\n",
       "      <td>services</td>\n",
       "      <td>married</td>\n",
       "      <td>secondary</td>\n",
       "      <td>no</td>\n",
       "      <td>yes</td>\n",
       "      <td>yes</td>\n",
       "      <td>cellular</td>\n",
       "      <td>may</td>\n",
       "      <td>failure</td>\n",
       "      <td>no</td>\n",
       "    </tr>\n",
       "    <tr>\n",
       "      <th>2</th>\n",
       "      <td>management</td>\n",
       "      <td>single</td>\n",
       "      <td>tertiary</td>\n",
       "      <td>no</td>\n",
       "      <td>yes</td>\n",
       "      <td>no</td>\n",
       "      <td>cellular</td>\n",
       "      <td>apr</td>\n",
       "      <td>failure</td>\n",
       "      <td>no</td>\n",
       "    </tr>\n",
       "    <tr>\n",
       "      <th>3</th>\n",
       "      <td>management</td>\n",
       "      <td>married</td>\n",
       "      <td>tertiary</td>\n",
       "      <td>no</td>\n",
       "      <td>yes</td>\n",
       "      <td>yes</td>\n",
       "      <td>unknown</td>\n",
       "      <td>jun</td>\n",
       "      <td>unknown</td>\n",
       "      <td>no</td>\n",
       "    </tr>\n",
       "    <tr>\n",
       "      <th>4</th>\n",
       "      <td>blue-collar</td>\n",
       "      <td>married</td>\n",
       "      <td>secondary</td>\n",
       "      <td>no</td>\n",
       "      <td>yes</td>\n",
       "      <td>no</td>\n",
       "      <td>unknown</td>\n",
       "      <td>may</td>\n",
       "      <td>unknown</td>\n",
       "      <td>no</td>\n",
       "    </tr>\n",
       "    <tr>\n",
       "      <th>...</th>\n",
       "      <td>...</td>\n",
       "      <td>...</td>\n",
       "      <td>...</td>\n",
       "      <td>...</td>\n",
       "      <td>...</td>\n",
       "      <td>...</td>\n",
       "      <td>...</td>\n",
       "      <td>...</td>\n",
       "      <td>...</td>\n",
       "      <td>...</td>\n",
       "    </tr>\n",
       "    <tr>\n",
       "      <th>4516</th>\n",
       "      <td>services</td>\n",
       "      <td>married</td>\n",
       "      <td>secondary</td>\n",
       "      <td>no</td>\n",
       "      <td>yes</td>\n",
       "      <td>no</td>\n",
       "      <td>cellular</td>\n",
       "      <td>jul</td>\n",
       "      <td>unknown</td>\n",
       "      <td>no</td>\n",
       "    </tr>\n",
       "    <tr>\n",
       "      <th>4517</th>\n",
       "      <td>self-employed</td>\n",
       "      <td>married</td>\n",
       "      <td>tertiary</td>\n",
       "      <td>yes</td>\n",
       "      <td>yes</td>\n",
       "      <td>yes</td>\n",
       "      <td>unknown</td>\n",
       "      <td>may</td>\n",
       "      <td>unknown</td>\n",
       "      <td>no</td>\n",
       "    </tr>\n",
       "    <tr>\n",
       "      <th>4518</th>\n",
       "      <td>technician</td>\n",
       "      <td>married</td>\n",
       "      <td>secondary</td>\n",
       "      <td>no</td>\n",
       "      <td>no</td>\n",
       "      <td>no</td>\n",
       "      <td>cellular</td>\n",
       "      <td>aug</td>\n",
       "      <td>unknown</td>\n",
       "      <td>no</td>\n",
       "    </tr>\n",
       "    <tr>\n",
       "      <th>4519</th>\n",
       "      <td>blue-collar</td>\n",
       "      <td>married</td>\n",
       "      <td>secondary</td>\n",
       "      <td>no</td>\n",
       "      <td>no</td>\n",
       "      <td>no</td>\n",
       "      <td>cellular</td>\n",
       "      <td>feb</td>\n",
       "      <td>other</td>\n",
       "      <td>no</td>\n",
       "    </tr>\n",
       "    <tr>\n",
       "      <th>4520</th>\n",
       "      <td>entrepreneur</td>\n",
       "      <td>single</td>\n",
       "      <td>tertiary</td>\n",
       "      <td>no</td>\n",
       "      <td>yes</td>\n",
       "      <td>yes</td>\n",
       "      <td>cellular</td>\n",
       "      <td>apr</td>\n",
       "      <td>other</td>\n",
       "      <td>no</td>\n",
       "    </tr>\n",
       "  </tbody>\n",
       "</table>\n",
       "<p>4521 rows × 10 columns</p>\n",
       "</div>"
      ],
      "text/plain": [
       "                job  marital  education default housing loan   contact month  \\\n",
       "0        unemployed  married    primary      no      no   no  cellular   oct   \n",
       "1          services  married  secondary      no     yes  yes  cellular   may   \n",
       "2        management   single   tertiary      no     yes   no  cellular   apr   \n",
       "3        management  married   tertiary      no     yes  yes   unknown   jun   \n",
       "4       blue-collar  married  secondary      no     yes   no   unknown   may   \n",
       "...             ...      ...        ...     ...     ...  ...       ...   ...   \n",
       "4516       services  married  secondary      no     yes   no  cellular   jul   \n",
       "4517  self-employed  married   tertiary     yes     yes  yes   unknown   may   \n",
       "4518     technician  married  secondary      no      no   no  cellular   aug   \n",
       "4519    blue-collar  married  secondary      no      no   no  cellular   feb   \n",
       "4520   entrepreneur   single   tertiary      no     yes  yes  cellular   apr   \n",
       "\n",
       "     poutcome   y  \n",
       "0     unknown  no  \n",
       "1     failure  no  \n",
       "2     failure  no  \n",
       "3     unknown  no  \n",
       "4     unknown  no  \n",
       "...       ...  ..  \n",
       "4516  unknown  no  \n",
       "4517  unknown  no  \n",
       "4518  unknown  no  \n",
       "4519    other  no  \n",
       "4520    other  no  \n",
       "\n",
       "[4521 rows x 10 columns]"
      ]
     },
     "execution_count": 606,
     "metadata": {},
     "output_type": "execute_result"
    }
   ],
   "source": [
    "Bank.select_dtypes('object')"
   ]
  },
  {
   "cell_type": "markdown",
   "id": "29df6121-9c84-4830-8963-e6bb84d8d041",
   "metadata": {},
   "source": [
    "### Campaign Preformance Overview"
   ]
  },
  {
   "cell_type": "code",
   "execution_count": 39,
   "id": "490cb659-9ac7-4a73-808e-f2f6617cdb36",
   "metadata": {},
   "outputs": [],
   "source": [
    "yes_count = Bank['y'].value_counts()['yes']\n",
    "total_count = Bank['y'].count()\n",
    "yes_percentage = (yes_count / total_count) * 100"
   ]
  },
  {
   "cell_type": "code",
   "execution_count": 668,
   "id": "db9f53b8-726f-4890-985f-bfd95644280c",
   "metadata": {},
   "outputs": [
    {
     "data": {
      "text/plain": [
       "12.0"
      ]
     },
     "execution_count": 668,
     "metadata": {},
     "output_type": "execute_result"
    }
   ],
   "source": [
    "y_p = yes_percentage.round()\n",
    "y_p"
   ]
  },
  {
   "cell_type": "code",
   "execution_count": 45,
   "id": "dceeb688-5864-4eb9-80da-b8349c6c4889",
   "metadata": {},
   "outputs": [],
   "source": [
    "average_campaign= Bank['campaign'].mean()"
   ]
  },
  {
   "cell_type": "code",
   "execution_count": 664,
   "id": "7befdb28-82eb-413b-89ed-2c1868b63259",
   "metadata": {},
   "outputs": [
    {
     "data": {
      "text/plain": [
       "3.0"
      ]
     },
     "execution_count": 664,
     "metadata": {},
     "output_type": "execute_result"
    }
   ],
   "source": [
    "a_c = average_campaign.round()\n",
    "a_c"
   ]
  },
  {
   "cell_type": "code",
   "execution_count": 53,
   "id": "62c7b28d-0ca2-44a3-997f-2e5a81f3bc29",
   "metadata": {},
   "outputs": [],
   "source": [
    "total_contacts= Bank['contact'].count()"
   ]
  },
  {
   "cell_type": "code",
   "execution_count": 55,
   "id": "272049d0-b0af-497d-b7da-e654944f2af4",
   "metadata": {},
   "outputs": [
    {
     "data": {
      "text/plain": [
       "4521"
      ]
     },
     "execution_count": 55,
     "metadata": {},
     "output_type": "execute_result"
    }
   ],
   "source": [
    "total_contacts"
   ]
  },
  {
   "cell_type": "markdown",
   "id": "8ecf5c2a-567a-48f8-8990-9a54fe7f3d0a",
   "metadata": {},
   "source": [
    "## Create a summary table that shows the total number of contacts, average campaign duration, and subscription rate."
   ]
  },
  {
   "cell_type": "code",
   "execution_count": 976,
   "id": "e00b06e3-3f13-404f-a3c6-03a09b05aeb5",
   "metadata": {},
   "outputs": [
    {
     "data": {
      "text/html": [
       "<div>\n",
       "<style scoped>\n",
       "    .dataframe tbody tr th:only-of-type {\n",
       "        vertical-align: middle;\n",
       "    }\n",
       "\n",
       "    .dataframe tbody tr th {\n",
       "        vertical-align: top;\n",
       "    }\n",
       "\n",
       "    .dataframe thead th {\n",
       "        text-align: right;\n",
       "    }\n",
       "</style>\n",
       "<table border=\"1\" class=\"dataframe\">\n",
       "  <thead>\n",
       "    <tr style=\"text-align: right;\">\n",
       "      <th></th>\n",
       "      <th>total_contact</th>\n",
       "      <th>Average_campaingn_duration</th>\n",
       "      <th>Subscription_rate</th>\n",
       "    </tr>\n",
       "  </thead>\n",
       "  <tbody>\n",
       "    <tr>\n",
       "      <th>0</th>\n",
       "      <td>4521</td>\n",
       "      <td>2.79363</td>\n",
       "      <td>12.0</td>\n",
       "    </tr>\n",
       "  </tbody>\n",
       "</table>\n",
       "</div>"
      ],
      "text/plain": [
       "   total_contact  Average_campaingn_duration  Subscription_rate\n",
       "0           4521                     2.79363               12.0"
      ]
     },
     "execution_count": 976,
     "metadata": {},
     "output_type": "execute_result"
    }
   ],
   "source": [
    "table_sum=pd.DataFrame({'total_contact':[total_contacts],\n",
    "                       'Average_campaingn_duration':[average_campaign],\n",
    "                       'Subscription_rate':[y_p]})\n",
    "table_sum"
   ]
  },
  {
   "cell_type": "markdown",
   "id": "5dc63604-48a4-458c-866c-c462e08997e0",
   "metadata": {},
   "source": [
    "### Monthly Campaign Trends"
   ]
  },
  {
   "cell_type": "code",
   "execution_count": 86,
   "id": "dd33cf3c-d8f7-4e8f-99eb-31e1f797758b",
   "metadata": {},
   "outputs": [
    {
     "data": {
      "text/html": [
       "<div>\n",
       "<style scoped>\n",
       "    .dataframe tbody tr th:only-of-type {\n",
       "        vertical-align: middle;\n",
       "    }\n",
       "\n",
       "    .dataframe tbody tr th {\n",
       "        vertical-align: top;\n",
       "    }\n",
       "\n",
       "    .dataframe thead th {\n",
       "        text-align: right;\n",
       "    }\n",
       "</style>\n",
       "<table border=\"1\" class=\"dataframe\">\n",
       "  <thead>\n",
       "    <tr style=\"text-align: right;\">\n",
       "      <th></th>\n",
       "      <th>month</th>\n",
       "      <th>contact</th>\n",
       "      <th>count</th>\n",
       "    </tr>\n",
       "  </thead>\n",
       "  <tbody>\n",
       "    <tr>\n",
       "      <th>0</th>\n",
       "      <td>apr</td>\n",
       "      <td>cellular</td>\n",
       "      <td>276</td>\n",
       "    </tr>\n",
       "    <tr>\n",
       "      <th>1</th>\n",
       "      <td>apr</td>\n",
       "      <td>telephone</td>\n",
       "      <td>17</td>\n",
       "    </tr>\n",
       "    <tr>\n",
       "      <th>2</th>\n",
       "      <td>aug</td>\n",
       "      <td>cellular</td>\n",
       "      <td>607</td>\n",
       "    </tr>\n",
       "    <tr>\n",
       "      <th>3</th>\n",
       "      <td>aug</td>\n",
       "      <td>telephone</td>\n",
       "      <td>20</td>\n",
       "    </tr>\n",
       "    <tr>\n",
       "      <th>4</th>\n",
       "      <td>aug</td>\n",
       "      <td>unknown</td>\n",
       "      <td>6</td>\n",
       "    </tr>\n",
       "    <tr>\n",
       "      <th>5</th>\n",
       "      <td>dec</td>\n",
       "      <td>cellular</td>\n",
       "      <td>18</td>\n",
       "    </tr>\n",
       "    <tr>\n",
       "      <th>6</th>\n",
       "      <td>dec</td>\n",
       "      <td>telephone</td>\n",
       "      <td>2</td>\n",
       "    </tr>\n",
       "    <tr>\n",
       "      <th>7</th>\n",
       "      <td>feb</td>\n",
       "      <td>cellular</td>\n",
       "      <td>199</td>\n",
       "    </tr>\n",
       "    <tr>\n",
       "      <th>8</th>\n",
       "      <td>feb</td>\n",
       "      <td>telephone</td>\n",
       "      <td>23</td>\n",
       "    </tr>\n",
       "    <tr>\n",
       "      <th>9</th>\n",
       "      <td>jan</td>\n",
       "      <td>cellular</td>\n",
       "      <td>129</td>\n",
       "    </tr>\n",
       "    <tr>\n",
       "      <th>10</th>\n",
       "      <td>jan</td>\n",
       "      <td>telephone</td>\n",
       "      <td>18</td>\n",
       "    </tr>\n",
       "    <tr>\n",
       "      <th>11</th>\n",
       "      <td>jan</td>\n",
       "      <td>unknown</td>\n",
       "      <td>1</td>\n",
       "    </tr>\n",
       "    <tr>\n",
       "      <th>12</th>\n",
       "      <td>jul</td>\n",
       "      <td>cellular</td>\n",
       "      <td>576</td>\n",
       "    </tr>\n",
       "    <tr>\n",
       "      <th>13</th>\n",
       "      <td>jul</td>\n",
       "      <td>telephone</td>\n",
       "      <td>102</td>\n",
       "    </tr>\n",
       "    <tr>\n",
       "      <th>14</th>\n",
       "      <td>jul</td>\n",
       "      <td>unknown</td>\n",
       "      <td>28</td>\n",
       "    </tr>\n",
       "    <tr>\n",
       "      <th>15</th>\n",
       "      <td>jun</td>\n",
       "      <td>unknown</td>\n",
       "      <td>450</td>\n",
       "    </tr>\n",
       "    <tr>\n",
       "      <th>16</th>\n",
       "      <td>jun</td>\n",
       "      <td>cellular</td>\n",
       "      <td>73</td>\n",
       "    </tr>\n",
       "    <tr>\n",
       "      <th>17</th>\n",
       "      <td>jun</td>\n",
       "      <td>telephone</td>\n",
       "      <td>8</td>\n",
       "    </tr>\n",
       "    <tr>\n",
       "      <th>18</th>\n",
       "      <td>mar</td>\n",
       "      <td>cellular</td>\n",
       "      <td>38</td>\n",
       "    </tr>\n",
       "    <tr>\n",
       "      <th>19</th>\n",
       "      <td>mar</td>\n",
       "      <td>telephone</td>\n",
       "      <td>10</td>\n",
       "    </tr>\n",
       "    <tr>\n",
       "      <th>20</th>\n",
       "      <td>mar</td>\n",
       "      <td>unknown</td>\n",
       "      <td>1</td>\n",
       "    </tr>\n",
       "    <tr>\n",
       "      <th>21</th>\n",
       "      <td>may</td>\n",
       "      <td>unknown</td>\n",
       "      <td>820</td>\n",
       "    </tr>\n",
       "    <tr>\n",
       "      <th>22</th>\n",
       "      <td>may</td>\n",
       "      <td>cellular</td>\n",
       "      <td>529</td>\n",
       "    </tr>\n",
       "    <tr>\n",
       "      <th>23</th>\n",
       "      <td>may</td>\n",
       "      <td>telephone</td>\n",
       "      <td>49</td>\n",
       "    </tr>\n",
       "    <tr>\n",
       "      <th>24</th>\n",
       "      <td>nov</td>\n",
       "      <td>cellular</td>\n",
       "      <td>345</td>\n",
       "    </tr>\n",
       "    <tr>\n",
       "      <th>25</th>\n",
       "      <td>nov</td>\n",
       "      <td>telephone</td>\n",
       "      <td>38</td>\n",
       "    </tr>\n",
       "    <tr>\n",
       "      <th>26</th>\n",
       "      <td>nov</td>\n",
       "      <td>unknown</td>\n",
       "      <td>6</td>\n",
       "    </tr>\n",
       "    <tr>\n",
       "      <th>27</th>\n",
       "      <td>oct</td>\n",
       "      <td>cellular</td>\n",
       "      <td>64</td>\n",
       "    </tr>\n",
       "    <tr>\n",
       "      <th>28</th>\n",
       "      <td>oct</td>\n",
       "      <td>telephone</td>\n",
       "      <td>11</td>\n",
       "    </tr>\n",
       "    <tr>\n",
       "      <th>29</th>\n",
       "      <td>oct</td>\n",
       "      <td>unknown</td>\n",
       "      <td>5</td>\n",
       "    </tr>\n",
       "    <tr>\n",
       "      <th>30</th>\n",
       "      <td>sep</td>\n",
       "      <td>cellular</td>\n",
       "      <td>42</td>\n",
       "    </tr>\n",
       "    <tr>\n",
       "      <th>31</th>\n",
       "      <td>sep</td>\n",
       "      <td>unknown</td>\n",
       "      <td>7</td>\n",
       "    </tr>\n",
       "    <tr>\n",
       "      <th>32</th>\n",
       "      <td>sep</td>\n",
       "      <td>telephone</td>\n",
       "      <td>3</td>\n",
       "    </tr>\n",
       "  </tbody>\n",
       "</table>\n",
       "</div>"
      ],
      "text/plain": [
       "   month    contact  count\n",
       "0    apr   cellular    276\n",
       "1    apr  telephone     17\n",
       "2    aug   cellular    607\n",
       "3    aug  telephone     20\n",
       "4    aug    unknown      6\n",
       "5    dec   cellular     18\n",
       "6    dec  telephone      2\n",
       "7    feb   cellular    199\n",
       "8    feb  telephone     23\n",
       "9    jan   cellular    129\n",
       "10   jan  telephone     18\n",
       "11   jan    unknown      1\n",
       "12   jul   cellular    576\n",
       "13   jul  telephone    102\n",
       "14   jul    unknown     28\n",
       "15   jun    unknown    450\n",
       "16   jun   cellular     73\n",
       "17   jun  telephone      8\n",
       "18   mar   cellular     38\n",
       "19   mar  telephone     10\n",
       "20   mar    unknown      1\n",
       "21   may    unknown    820\n",
       "22   may   cellular    529\n",
       "23   may  telephone     49\n",
       "24   nov   cellular    345\n",
       "25   nov  telephone     38\n",
       "26   nov    unknown      6\n",
       "27   oct   cellular     64\n",
       "28   oct  telephone     11\n",
       "29   oct    unknown      5\n",
       "30   sep   cellular     42\n",
       "31   sep    unknown      7\n",
       "32   sep  telephone      3"
      ]
     },
     "execution_count": 86,
     "metadata": {},
     "output_type": "execute_result"
    }
   ],
   "source": [
    "monthly_trends= Bank.groupby(['month'])['contact'].value_counts()\n",
    "monthly_trends.reset_index()"
   ]
  },
  {
   "cell_type": "code",
   "execution_count": 928,
   "id": "7720d59c-d701-4070-8a94-80b9e08ad0ba",
   "metadata": {},
   "outputs": [
    {
     "name": "stdout",
     "output_type": "stream",
     "text": [
      "Contacts  cellular  telephone  unknown\n",
      "Months                                \n",
      "apr            276         17        0\n",
      "aug            607         20        6\n",
      "dec             18          2        0\n",
      "feb            199         23        0\n",
      "jan            129         18        1\n",
      "jul            576        102       28\n",
      "jun             73          8      450\n",
      "mar             38         10        1\n",
      "may            529         49      820\n",
      "nov            345         38        6\n",
      "oct             64         11        5\n",
      "sep             42          3        7\n"
     ]
    }
   ],
   "source": [
    "# Create a pivot table to show monthly trends in client contacts\n",
    "\n",
    "bp=pd.DataFrame({'Months':Bank['month'], 'Contacts' : Bank['contact']})\n",
    "\n",
    "months_contact= bp.pivot_table(index='Months',columns='Contacts',aggfunc='size',fill_value=0)\n",
    "\n",
    "print(months_contact)"
   ]
  },
  {
   "cell_type": "code",
   "execution_count": 930,
   "id": "56a12901-19ed-4a2a-b475-3b0ce24845de",
   "metadata": {},
   "outputs": [
    {
     "data": {
      "image/png": "[encoded data removed]",
      "text/plain": [
       "<Figure size 640x480 with 1 Axes>"
      ]
     },
     "metadata": {},
     "output_type": "display_data"
    }
   ],
   "source": [
    "#Create a line plot to display the monthly trends in client contacts\n",
    "\n",
    "fig, ax = plt.subplots()\n",
    "months_contact.plot( ax=ax,marker='o')\n",
    "plt.xlabel('Months')\n",
    "plt.ylabel('Contacts')\n",
    "plt.title('Summary')\n",
    "plt.show()"
   ]
  },
  {
   "cell_type": "code",
   "execution_count": 932,
   "id": "0eb93743-cfa0-4cad-8733-8cec43ef981a",
   "metadata": {},
   "outputs": [
    {
     "data": {
      "text/html": [
       "<div>\n",
       "<style scoped>\n",
       "    .dataframe tbody tr th:only-of-type {\n",
       "        vertical-align: middle;\n",
       "    }\n",
       "\n",
       "    .dataframe tbody tr th {\n",
       "        vertical-align: top;\n",
       "    }\n",
       "\n",
       "    .dataframe thead th {\n",
       "        text-align: right;\n",
       "    }\n",
       "</style>\n",
       "<table border=\"1\" class=\"dataframe\">\n",
       "  <thead>\n",
       "    <tr style=\"text-align: right;\">\n",
       "      <th>Subscription</th>\n",
       "      <th>yes</th>\n",
       "    </tr>\n",
       "    <tr>\n",
       "      <th>Months</th>\n",
       "      <th></th>\n",
       "    </tr>\n",
       "  </thead>\n",
       "  <tbody>\n",
       "    <tr>\n",
       "      <th>apr</th>\n",
       "      <td>56</td>\n",
       "    </tr>\n",
       "    <tr>\n",
       "      <th>aug</th>\n",
       "      <td>79</td>\n",
       "    </tr>\n",
       "    <tr>\n",
       "      <th>dec</th>\n",
       "      <td>9</td>\n",
       "    </tr>\n",
       "    <tr>\n",
       "      <th>feb</th>\n",
       "      <td>38</td>\n",
       "    </tr>\n",
       "    <tr>\n",
       "      <th>jan</th>\n",
       "      <td>16</td>\n",
       "    </tr>\n",
       "    <tr>\n",
       "      <th>jul</th>\n",
       "      <td>61</td>\n",
       "    </tr>\n",
       "    <tr>\n",
       "      <th>jun</th>\n",
       "      <td>55</td>\n",
       "    </tr>\n",
       "    <tr>\n",
       "      <th>mar</th>\n",
       "      <td>21</td>\n",
       "    </tr>\n",
       "    <tr>\n",
       "      <th>may</th>\n",
       "      <td>93</td>\n",
       "    </tr>\n",
       "    <tr>\n",
       "      <th>nov</th>\n",
       "      <td>39</td>\n",
       "    </tr>\n",
       "    <tr>\n",
       "      <th>oct</th>\n",
       "      <td>37</td>\n",
       "    </tr>\n",
       "    <tr>\n",
       "      <th>sep</th>\n",
       "      <td>17</td>\n",
       "    </tr>\n",
       "  </tbody>\n",
       "</table>\n",
       "</div>"
      ],
      "text/plain": [
       "Subscription  yes\n",
       "Months           \n",
       "apr            56\n",
       "aug            79\n",
       "dec             9\n",
       "feb            38\n",
       "jan            16\n",
       "jul            61\n",
       "jun            55\n",
       "mar            21\n",
       "may            93\n",
       "nov            39\n",
       "oct            37\n",
       "sep            17"
      ]
     },
     "execution_count": 932,
     "metadata": {},
     "output_type": "execute_result"
    }
   ],
   "source": [
    "# Create a pivot table to show the subscription rates by month\n",
    "bp=pd.DataFrame({'Months': Bank['month'], 'Subscription': Bank['y']})\n",
    "\n",
    "subs=bp.pivot_table(index='Months',columns='Subscription',aggfunc='size',fill_value=0).drop(columns='no')\n",
    "\n",
    "subs\n"
   ]
  },
  {
   "cell_type": "code",
   "execution_count": 934,
   "id": "a330fb2c-8f29-42e7-a6fb-caded72fcee2",
   "metadata": {},
   "outputs": [
    {
     "data": {
      "text/plain": [
       "<Axes: xlabel='Months'>"
      ]
     },
     "execution_count": 934,
     "metadata": {},
     "output_type": "execute_result"
    },
    {
     "data": {
      "text/plain": [
       "<Figure size 1000x600 with 0 Axes>"
      ]
     },
     "metadata": {},
     "output_type": "display_data"
    },
    {
     "data": {
      "image/png": "[encoded data removed]",
      "text/plain": [
       "<Figure size 640x480 with 1 Axes>"
      ]
     },
     "metadata": {},
     "output_type": "display_data"
    }
   ],
   "source": [
    "# Create a stacked area plot to show the subscription rates by month.\n",
    "plt.figure(figsize=(10,6))\n",
    "subs.plot(kind='area',stacked=True)"
   ]
  },
  {
   "cell_type": "markdown",
   "id": "8a9a62fa-5c65-4763-88ea-102297877070",
   "metadata": {},
   "source": [
    "## Client Demographics Analysis"
   ]
  },
  {
   "cell_type": "code",
   "execution_count": 414,
   "id": "14daec28-b103-4e62-8a40-3936cfb92325",
   "metadata": {},
   "outputs": [
    {
     "data": {
      "text/html": [
       "<div>\n",
       "<style scoped>\n",
       "    .dataframe tbody tr th:only-of-type {\n",
       "        vertical-align: middle;\n",
       "    }\n",
       "\n",
       "    .dataframe tbody tr th {\n",
       "        vertical-align: top;\n",
       "    }\n",
       "\n",
       "    .dataframe thead th {\n",
       "        text-align: right;\n",
       "    }\n",
       "</style>\n",
       "<table border=\"1\" class=\"dataframe\">\n",
       "  <thead>\n",
       "    <tr style=\"text-align: right;\">\n",
       "      <th>Subscription</th>\n",
       "      <th>yes</th>\n",
       "    </tr>\n",
       "    <tr>\n",
       "      <th>Jobs</th>\n",
       "      <th></th>\n",
       "    </tr>\n",
       "  </thead>\n",
       "  <tbody>\n",
       "    <tr>\n",
       "      <th>admin.</th>\n",
       "      <td>58</td>\n",
       "    </tr>\n",
       "    <tr>\n",
       "      <th>blue-collar</th>\n",
       "      <td>69</td>\n",
       "    </tr>\n",
       "    <tr>\n",
       "      <th>entrepreneur</th>\n",
       "      <td>15</td>\n",
       "    </tr>\n",
       "    <tr>\n",
       "      <th>housemaid</th>\n",
       "      <td>14</td>\n",
       "    </tr>\n",
       "    <tr>\n",
       "      <th>management</th>\n",
       "      <td>131</td>\n",
       "    </tr>\n",
       "    <tr>\n",
       "      <th>retired</th>\n",
       "      <td>54</td>\n",
       "    </tr>\n",
       "    <tr>\n",
       "      <th>self-employed</th>\n",
       "      <td>20</td>\n",
       "    </tr>\n",
       "    <tr>\n",
       "      <th>services</th>\n",
       "      <td>38</td>\n",
       "    </tr>\n",
       "    <tr>\n",
       "      <th>student</th>\n",
       "      <td>19</td>\n",
       "    </tr>\n",
       "    <tr>\n",
       "      <th>technician</th>\n",
       "      <td>83</td>\n",
       "    </tr>\n",
       "    <tr>\n",
       "      <th>unemployed</th>\n",
       "      <td>13</td>\n",
       "    </tr>\n",
       "    <tr>\n",
       "      <th>unknown</th>\n",
       "      <td>7</td>\n",
       "    </tr>\n",
       "  </tbody>\n",
       "</table>\n",
       "</div>"
      ],
      "text/plain": [
       "Subscription   yes\n",
       "Jobs              \n",
       "admin.          58\n",
       "blue-collar     69\n",
       "entrepreneur    15\n",
       "housemaid       14\n",
       "management     131\n",
       "retired         54\n",
       "self-employed   20\n",
       "services        38\n",
       "student         19\n",
       "technician      83\n",
       "unemployed      13\n",
       "unknown          7"
      ]
     },
     "execution_count": 414,
     "metadata": {},
     "output_type": "execute_result"
    }
   ],
   "source": [
    "bp=pd.DataFrame({'Jobs': Bank['job'], 'Subscription': Bank['y']})\n",
    "\n",
    "job_cat=bp.pivot_table(index= 'Jobs', columns= 'Subscription' , aggfunc= 'size', fill_value=0).drop(columns='no')\n",
    "\n",
    "job_cat"
   ]
  },
  {
   "cell_type": "code",
   "execution_count": 948,
   "id": "e84ea38f-cd99-450e-9530-3d5a6148a9ea",
   "metadata": {},
   "outputs": [],
   "source": [
    "#Highlight top performing and least performing job categories\n",
    "#calculate top performing and least performing\n",
    "top_performer= total_performance.idxmax()\n",
    "least_performer=total_performance.idxmin()"
   ]
  },
  {
   "cell_type": "code",
   "execution_count": 496,
   "id": "3b4f5fb0-f0a6-4b88-8c54-ccb763768bf4",
   "metadata": {},
   "outputs": [
    {
     "data": {
      "image/png": "[encoded data removed]",
      "text/plain": [
       "<Figure size 640x480 with 1 Axes>"
      ]
     },
     "metadata": {},
     "output_type": "display_data"
    }
   ],
   "source": [
    "# Plot the bar chart with custom colors\n",
    "ax = job_cat.plot(kind='bar', stacked=True, color=['lightblue', 'lightcoral'])  # Initial colors\n",
    "\n",
    "# Apply custom colors to the bars based on performance\n",
    "for i, rect in enumerate(ax.patches):\n",
    "    # Patches correspond to each bar in the plot; map them to the colors\n",
    "    if i % len(job_cat.columns) == 0:  # Assuming the first column (e.g., 'No')\n",
    "        rect.set_color(colors[i // len(job_cat.columns)])\n",
    "    else:  # The second column (e.g., 'Yes')\n",
    "        rect.set_color(colors[i // len(job_cat.columns)])\n",
    "\n",
    "# Customize and show the plot\n",
    "plt.title('Subscription by Job Category (Highlighted)')\n",
    "plt.xlabel('Job Category')\n",
    "plt.ylabel('Count')\n",
    "plt.legend(title='Subscription')\n",
    "plt.show()"
   ]
  },
  {
   "cell_type": "markdown",
   "id": "f1c1f2eb-72c3-46d6-83c6-f72ea7d6bd4d",
   "metadata": {},
   "source": [
    "## CONTACT DURATION ANALYSIS"
   ]
  },
  {
   "cell_type": "code",
   "execution_count": 922,
   "id": "0b6bbd3a-7836-4bdf-b5ba-21549b924d39",
   "metadata": {},
   "outputs": [
    {
     "data": {
      "image/png": "[encoded data removed]",
      "text/plain": [
       "<Figure size 1000x1000 with 1 Axes>"
      ]
     },
     "metadata": {},
     "output_type": "display_data"
    }
   ],
   "source": [
    "dy = pd.DataFrame({\n",
    "    'cd':Bank[Bank['y']=='yes']['duration'],\n",
    "    'sr':Bank[Bank['y']=='yes']['y']\n",
    "})\n",
    "dy\n",
    "\n",
    "#select the duration \n",
    "du = dy['cd']\n",
    "#now we ARE trying to count the number of times all the digits poped \n",
    "poped_out = range(len(du))\n",
    "\n",
    "#start plotting \n",
    "\n",
    "plt.figure(figsize= (10,10))\n",
    "plt.scatter(du, poped_out,color = 'blue')\n",
    "plt.grid()\n",
    "plt.title('Contact Duration vs Subscribtion Success',fontsize= 15,fontweight='10')\n",
    "plt.show()"
   ]
  },
  {
   "cell_type": "markdown",
   "id": "dbfdb285-3fc6-4ae1-9eea-0aef22087810",
   "metadata": {},
   "source": [
    "## CLIENT SEGMENT ANALYSIS"
   ]
  },
  {
   "cell_type": "code",
   "execution_count": 966,
   "id": "9153d5f7-73c3-4932-8bd6-84c0b616a3f8",
   "metadata": {},
   "outputs": [],
   "source": [
    "#Group all age groups\n",
    "teenager= Bank[Bank['age'].between(17,19)]\n",
    "genz= Bank[Bank['age'].between(20,27)]\n",
    "millenials=Bank[Bank['age'].between(28,45)]\n",
    "genx=Bank[Bank['age'].between(46,59)]\n",
    "boomers1=Bank[Bank['age'].between(60,79)]\n",
    "boomers2=Bank[Bank['age'].between(80,90)]"
   ]
  },
  {
   "cell_type": "code",
   "execution_count": 974,
   "id": "0fff5b39-5c8e-4522-b3c2-865c32a54cc1",
   "metadata": {},
   "outputs": [
    {
     "data": {
      "text/plain": [
       "50.0"
      ]
     },
     "execution_count": 974,
     "metadata": {},
     "output_type": "execute_result"
    }
   ],
   "source": [
    "#find the subscription for all age groups\n",
    "teenager= Bank[Bank['age'].between(17,19)]\n",
    "teenagersr=(teenager['y'].value_counts()['yes']/teenager['y'].count())*100\n",
    "teenagersr"
   ]
  },
  {
   "cell_type": "code",
   "execution_count": 772,
   "id": "1cf7c11c-4049-4f83-8028-0d751c6ce061",
   "metadata": {},
   "outputs": [
    {
     "data": {
      "text/plain": [
       "15.107913669064748"
      ]
     },
     "execution_count": 772,
     "metadata": {},
     "output_type": "execute_result"
    }
   ],
   "source": [
    "genz= Bank[Bank['age'].between(20,27)]\n",
    "genzsr=(genz['y'].value_counts()['yes']/genz['y'].count())*100\n",
    "genzsr"
   ]
  },
  {
   "cell_type": "code",
   "execution_count": 774,
   "id": "b7cfff16-bcaf-453d-88a4-571d317c6ee3",
   "metadata": {},
   "outputs": [
    {
     "data": {
      "text/plain": [
       "10.224800580130529"
      ]
     },
     "execution_count": 774,
     "metadata": {},
     "output_type": "execute_result"
    }
   ],
   "source": [
    "millenials=Bank[Bank['age'].between(28,45)]\n",
    "millenialssr=(millenials['y'].value_counts()['yes']/millenials['y'].count())*100\n",
    "millenialssr"
   ]
  },
  {
   "cell_type": "code",
   "execution_count": 880,
   "id": "c2c5030f-9c17-4958-bd3f-cc242a35e74a",
   "metadata": {},
   "outputs": [
    {
     "data": {
      "text/plain": [
       "10.711553175210407"
      ]
     },
     "execution_count": 880,
     "metadata": {},
     "output_type": "execute_result"
    }
   ],
   "source": [
    "genx=Bank[Bank['age'].between(46,59)]\n",
    "genxsr=(genx['y'].value_counts()['yes']/genx['y'].count())*100\n",
    "genxsr"
   ]
  },
  {
   "cell_type": "code",
   "execution_count": 778,
   "id": "424ff086-540a-4238-b005-52095491c8ea",
   "metadata": {},
   "outputs": [
    {
     "data": {
      "text/plain": [
       "30.625000000000004"
      ]
     },
     "execution_count": 778,
     "metadata": {},
     "output_type": "execute_result"
    }
   ],
   "source": [
    "boomers1=Bank[Bank['age'].between(60,79)]\n",
    "boomers1sr=(boomers1['y'].value_counts()['yes']/boomers1['y'].count())*100\n",
    "boomers1sr"
   ]
  },
  {
   "cell_type": "code",
   "execution_count": 780,
   "id": "dfd0efa7-62f4-40f2-8163-93efef4dd5a2",
   "metadata": {},
   "outputs": [
    {
     "data": {
      "text/plain": [
       "350.0"
      ]
     },
     "execution_count": 780,
     "metadata": {},
     "output_type": "execute_result"
    }
   ],
   "source": [
    "boomers2=Bank[Bank['age'].between(80,90)]\n",
    "boomers2sr=(boomers1['y'].value_counts()['yes']/boomers2['y'].count())*100\n",
    "boomers2sr"
   ]
  },
  {
   "cell_type": "code",
   "execution_count": 906,
   "id": "356697a6-ad2c-4a70-b5f0-ab591d42d34b",
   "metadata": {},
   "outputs": [],
   "source": [
    "kg = [\"teenager\", \"genz\", \"millenials\", \"genx\", \"boomers1\", \"boomers2\"]"
   ]
  },
  {
   "cell_type": "code",
   "execution_count": 962,
   "id": "0afd659e-eb84-4af4-be0d-b11e14c777dd",
   "metadata": {},
   "outputs": [
    {
     "data": {
      "text/html": [
       "<div>\n",
       "<style scoped>\n",
       "    .dataframe tbody tr th:only-of-type {\n",
       "        vertical-align: middle;\n",
       "    }\n",
       "\n",
       "    .dataframe tbody tr th {\n",
       "        vertical-align: top;\n",
       "    }\n",
       "\n",
       "    .dataframe thead th {\n",
       "        text-align: right;\n",
       "    }\n",
       "</style>\n",
       "<table border=\"1\" class=\"dataframe\">\n",
       "  <thead>\n",
       "    <tr style=\"text-align: right;\">\n",
       "      <th></th>\n",
       "      <th>SR</th>\n",
       "      <th>AG</th>\n",
       "    </tr>\n",
       "  </thead>\n",
       "  <tbody>\n",
       "    <tr>\n",
       "      <th>0</th>\n",
       "      <td>50.000000</td>\n",
       "      <td>teenager</td>\n",
       "    </tr>\n",
       "    <tr>\n",
       "      <th>1</th>\n",
       "      <td>15.107914</td>\n",
       "      <td>genz</td>\n",
       "    </tr>\n",
       "    <tr>\n",
       "      <th>2</th>\n",
       "      <td>10.224801</td>\n",
       "      <td>millenials</td>\n",
       "    </tr>\n",
       "    <tr>\n",
       "      <th>3</th>\n",
       "      <td>10.711553</td>\n",
       "      <td>genx</td>\n",
       "    </tr>\n",
       "    <tr>\n",
       "      <th>4</th>\n",
       "      <td>30.625000</td>\n",
       "      <td>boomers1</td>\n",
       "    </tr>\n",
       "    <tr>\n",
       "      <th>5</th>\n",
       "      <td>350.000000</td>\n",
       "      <td>boomers2</td>\n",
       "    </tr>\n",
       "  </tbody>\n",
       "</table>\n",
       "</div>"
      ],
      "text/plain": [
       "           SR          AG\n",
       "0   50.000000    teenager\n",
       "1   15.107914        genz\n",
       "2   10.224801  millenials\n",
       "3   10.711553        genx\n",
       "4   30.625000    boomers1\n",
       "5  350.000000    boomers2"
      ]
     },
     "execution_count": 962,
     "metadata": {},
     "output_type": "execute_result"
    }
   ],
   "source": [
    "#create a dataframe for age categories subscription rates and the age categories for easy plotting\n",
    "ag1={\n",
    "    'SR':[teenagersr, genzsr, millenialssr, genxsr,boomers1sr,boomers2sr],'AG':[\"teenager\", \"genz\", \"millenials\", \"genx\", \"boomers1\", \"boomers2\"]\n",
    "}\n",
    "ag=pd.DataFrame(ag1)\n",
    "ag"
   ]
  },
  {
   "cell_type": "code",
   "execution_count": 964,
   "id": "3c3018ab-e8ff-4c3a-912c-4a1d5b283374",
   "metadata": {
    "scrolled": true
   },
   "outputs": [
    {
     "data": {
      "image/png": "[encoded data removed]",
      "text/plain": [
       "<Figure size 640x480 with 1 Axes>"
      ]
     },
     "metadata": {},
     "output_type": "display_data"
    }
   ],
   "source": [
    "#plot the age categores subscription age in a pie chart \n",
    "ag.plot(kind=\"pie\",labels=None, y=\"SR\", autopct='%1.1f%%', legend=True)\n",
    "plt.title(\"Contribution of Different Age groups to the Overall SR\")\n",
    "plt.ylabel(\"\")\n",
    "plt.legend(labels=kg, loc=\"upper right\", bbox_to_anchor=(1.3, 1))\n",
    "plt.show()\n"
   ]
  },
  {
   "cell_type": "code",
   "execution_count": null,
   "id": "860f1349-6e72-4e14-8e72-4ffc7fa001e6",
   "metadata": {},
   "outputs": [],
   "source": []
  }
 ],
 "metadata": {
  "kernelspec": {
   "display_name": "Python 3 (ipykernel)",
   "language": "python",
   "name": "python3"
  },
  "language_info": {
   "codemirror_mode": {
    "name": "ipython",
    "version": 3
   },
   "file_extension": ".py",
   "mimetype": "text/x-python",
   "name": "python",
   "nbconvert_exporter": "python",
   "pygments_lexer": "ipython3",
   "version": "3.11.7"
  }
 },
 "nbformat": 4,
 "nbformat_minor": 5
}
